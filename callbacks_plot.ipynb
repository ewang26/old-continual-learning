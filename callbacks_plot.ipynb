{
 "cells": [
  {
   "cell_type": "code",
   "execution_count": 5,
   "metadata": {},
   "outputs": [],
   "source": [
    "import numpy as np\n",
    "import matplotlib.pyplot as plt"
   ]
  },
  {
   "cell_type": "code",
   "execution_count": 6,
   "metadata": {},
   "outputs": [],
   "source": [
    "def plot_loss():\n",
    "    num_tasks = 5\n",
    "    p_vals = [0.001, 0.002, 0.005, 0.01, 0.02, 0.05, 0.1, 0.2, 0.5, 1]\n",
    "    num_p = len(p_vals)\n",
    "    plt.rcParams['font.size'] = 20\n",
    "    fig, ax = plt.subplots(num_p, 1, figsize = (num_p*4, 30))\n",
    "    for i, p in enumerate(p_vals):\n",
    "        for k in range(num_tasks):\n",
    "            loss_path = f'models/mnist_split/{p}/train/task_{k}/loss.npy'\n",
    "            loss_arr = np.load(loss_path)\n",
    "            ax[i].plot(loss_arr, label = f'task {k}')\n",
    "        ax[i].set_title(f'Training Loss for p = {p}')\n",
    "        ax[i].set_ylabel('Cross Entropy Loss')\n",
    "        ax[i].legend()\n",
    "    ax[-1].set_xlabel('epoch')\n",
    "    plt.tight_layout()\n",
    "    plt.savefig('callback_plots/train_loss.png')\n",
    "    plt.show()"
   ]
  },
  {
   "cell_type": "code",
   "execution_count": 7,
   "metadata": {},
   "outputs": [],
   "source": [
    "def plot_avg_acc():\n",
    "    p_vals = [0.001, 0.002, 0.005, 0.01, 0.02, 0.05, 0.1, 0.2, 0.5, 1]\n",
    "    avg_acc_arr = np.zeros_like(p_vals)\n",
    "    plt.rcParams['font.size'] = 20\n",
    "    plt.figure()\n",
    "    for i, p in enumerate(p_vals):\n",
    "        avg_acc_arr[i] = np.mean(np.load('mnist_split/{p}/train/acc.npy'))\n",
    "    \n",
    "    plt.plot(avg_acc_arr)\n",
    "    plt.title(f'Average accuracy vs p-value')\n",
    "    plt.xlabel('P_value')\n",
    "    plt.ylabel('average accuracy across tasks')\n",
    "    plt.savefig('callback_plots/avg_acc.png')\n",
    "    plt.show()"
   ]
  },
  {
   "cell_type": "code",
   "execution_count": 8,
   "metadata": {},
   "outputs": [
    {
     "data": {
      "text/plain": [
       "<function __main__.plot_avg_acc()>"
      ]
     },
     "execution_count": 8,
     "metadata": {},
     "output_type": "execute_result"
    }
   ],
   "source": [
    "plot_avg_acc"
   ]
  },
  {
   "cell_type": "code",
   "execution_count": null,
   "metadata": {},
   "outputs": [],
   "source": []
  }
 ],
 "metadata": {
  "kernelspec": {
   "display_name": "continualLearning",
   "language": "python",
   "name": "python3"
  },
  "language_info": {
   "codemirror_mode": {
    "name": "ipython",
    "version": 3
   },
   "file_extension": ".py",
   "mimetype": "text/x-python",
   "name": "python",
   "nbconvert_exporter": "python",
   "pygments_lexer": "ipython3",
   "version": "3.11.4"
  }
 },
 "nbformat": 4,
 "nbformat_minor": 2
}
