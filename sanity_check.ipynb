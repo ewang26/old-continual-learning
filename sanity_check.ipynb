{
 "cells": [
  {
   "cell_type": "code",
   "execution_count": 2,
   "metadata": {},
   "outputs": [],
   "source": [
    "import numpy as np\n",
    "import matplotlib.pyplot as plt"
   ]
  },
  {
   "cell_type": "code",
   "execution_count": 34,
   "metadata": {},
   "outputs": [
    {
     "name": "stdout",
     "output_type": "stream",
     "text": [
      "1.0\n",
      "1.0\n",
      "0.99999994\n",
      "0.9999999\n",
      "0.99999994\n"
     ]
    }
   ],
   "source": [
    "for task in range(5):\n",
    "    actual_flat = np.load(f'models/mnist_split/1/run_0/ideal_grad_task_{task}/grad_layers.0.weight.npy').flatten()\n",
    "    ideal_flat =  np.load(f'models/mnist_split/1/train/task_{task}/grad_layers.0.weight.npy').flatten()\n",
    "\n",
    "    dot_product = np.dot(actual_flat, ideal_flat)\n",
    "    norm_actual = np.linalg.norm(actual_flat)\n",
    "    norm_ideal = np.linalg.norm(ideal_flat)\n",
    "    print (dot_product / (norm_actual * norm_ideal))"
   ]
  },
  {
   "cell_type": "code",
   "execution_count": 38,
   "metadata": {},
   "outputs": [
    {
     "name": "stdout",
     "output_type": "stream",
     "text": [
      "0.9999999\n",
      "0.999991\n",
      "0.97776455\n",
      "0.9999994\n",
      "0.99995387\n"
     ]
    }
   ],
   "source": [
    "for task in range(5):\n",
    "    actual_flat = np.load(f'models/mnist_split/0.005/run_0/ideal_grad_task_{task}/grad_layers.0.weight.npy').flatten()\n",
    "    ideal_flat =  np.load(f'models/mnist_split/1/train/task_{task}/grad_layers.0.weight.npy').flatten()\n",
    "\n",
    "    dot_product = np.dot(actual_flat, ideal_flat)\n",
    "    norm_actual = np.linalg.norm(actual_flat)\n",
    "    norm_ideal = np.linalg.norm(ideal_flat)\n",
    "    print (dot_product / (norm_actual * norm_ideal))"
   ]
  },
  {
   "cell_type": "code",
   "execution_count": null,
   "metadata": {},
   "outputs": [],
   "source": []
  }
 ],
 "metadata": {
  "kernelspec": {
   "display_name": "continualLearning",
   "language": "python",
   "name": "python3"
  },
  "language_info": {
   "codemirror_mode": {
    "name": "ipython",
    "version": 3
   },
   "file_extension": ".py",
   "mimetype": "text/x-python",
   "name": "python",
   "nbconvert_exporter": "python",
   "pygments_lexer": "ipython3",
   "version": "3.11.5"
  }
 },
 "nbformat": 4,
 "nbformat_minor": 2
}
