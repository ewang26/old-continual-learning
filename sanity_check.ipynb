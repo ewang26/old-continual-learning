{
 "cells": [
  {
   "cell_type": "code",
   "execution_count": 1,
   "metadata": {},
   "outputs": [],
   "source": [
    "import numpy as np\n",
    "import matplotlib.pyplot as plt"
   ]
  },
  {
   "cell_type": "code",
   "execution_count": 4,
   "metadata": {},
   "outputs": [
    {
     "name": "stdout",
     "output_type": "stream",
     "text": [
      "1.0\n",
      "1.0000001\n",
      "1.0000001\n",
      "1.0000001\n",
      "1.0\n"
     ]
    }
   ],
   "source": [
    "for task in range(5):\n",
    "    #actual_flat = np.load(f'models/mnist_split/1/run_0/ideal_grad_task_{task}/grad_layers.0.weight.npy').flatten()\n",
    "    #ideal_flat =  np.load(f'models/mnist_split/1/train/task_{task}/grad_layers.0.weight.npy').flatten()\n",
    "    actual_flat = np.load(f'models/mnist_split/1/run_0/ideal_grad_task_{task}/grad_output_layer.weight.npy').flatten()\n",
    "    ideal_flat =  np.load(f'models/mnist_split/1/train/task_{task}/grad_output_layer.weight.npy').flatten()\n",
    "\n",
    "\n",
    "    dot_product = np.dot(actual_flat, ideal_flat)\n",
    "    norm_actual = np.linalg.norm(actual_flat)\n",
    "    norm_ideal = np.linalg.norm(ideal_flat)\n",
    "    print (dot_product / (norm_actual * norm_ideal))"
   ]
  },
  {
   "cell_type": "code",
   "execution_count": 3,
   "metadata": {},
   "outputs": [
    {
     "name": "stdout",
     "output_type": "stream",
     "text": [
      "0.9665774\n",
      "0.87582743\n",
      "0.90802586\n",
      "0.9242813\n",
      "0.9476149\n"
     ]
    }
   ],
   "source": [
    "for task in range(5):\n",
    "    #actual_flat = np.load(f'models/mnist_split/1/run_0/ideal_grad_task_{task}/grad_layers.0.weight.npy').flatten()\n",
    "    #ideal_flat =  np.load(f'models/mnist_split/1/train/task_{task}/grad_layers.0.weight.npy').flatten()\n",
    "    actual_flat = np.load(f'models/cifar10_split/1/run_0/ideal_grad_task_{task}/grad_conv_block.6.weight.npy').flatten()\n",
    "    ideal_flat =  np.load(f'models/cifar10_split/1/train/task_{task}/grad_conv_block.6.weight.npy').flatten()\n",
    "\n",
    "\n",
    "    dot_product = np.dot(actual_flat, ideal_flat)\n",
    "    norm_actual = np.linalg.norm(actual_flat)\n",
    "    norm_ideal = np.linalg.norm(ideal_flat)\n",
    "    print (dot_product / (norm_actual * norm_ideal))"
   ]
  },
  {
   "cell_type": "code",
   "execution_count": 19,
   "metadata": {},
   "outputs": [
    {
     "name": "stdout",
     "output_type": "stream",
     "text": [
      "0.946994\n",
      "-0.59961706\n",
      "0.6553662\n",
      "-0.13385157\n",
      "-0.22284585\n"
     ]
    }
   ],
   "source": [
    "for task in range(5):\n",
    "    #actual_flat = np.load(f'models/mnist_split/0.02/run_0/ideal_grad_task_{task}/grad_layers.0.weight.npy').flatten()\n",
    "    #ideal_flat =  np.load(f'models/mnist_split/1/train/task_{task}/grad_layers.0.weight.npy').flatten()\n",
    "    actual_flat = np.load(f'models/mnist_split/0.02/run_0/ideal_grad_task_{task}/grad_output_layer.weight.npy').flatten()\n",
    "    ideal_flat =  np.load(f'models/mnist_split/1/train/task_{task}/grad_output_layer.weight.npy').flatten()\n",
    "\n",
    "    dot_product = np.dot(actual_flat, ideal_flat)\n",
    "    norm_actual = np.linalg.norm(actual_flat)\n",
    "    norm_ideal = np.linalg.norm(ideal_flat)\n",
    "    print (dot_product / (norm_actual * norm_ideal))"
   ]
  },
  {
   "cell_type": "code",
   "execution_count": 7,
   "metadata": {},
   "outputs": [
    {
     "name": "stdout",
     "output_type": "stream",
     "text": [
      "[[0.047107   0.04105936 0.00127458 ... 0.         0.         0.        ]\n",
      " [0.047107   0.04105936 0.00127458 ... 0.         0.         0.        ]\n",
      " [0.047107   0.04105936 0.00127458 ... 0.         0.         0.        ]\n",
      " ...\n",
      " [0.047107   0.04105936 0.00127458 ... 0.         0.         0.        ]\n",
      " [0.047107   0.04105936 0.00127458 ... 0.         0.         0.        ]\n",
      " [0.047107   0.04105936 0.00127458 ... 0.         0.         0.        ]]\n",
      "[0. 0. 0. 0. 0. 0. 0. 0. 0. 0. 0. 0. 0. 0. 0. 0. 0. 0. 0. 0. 0. 0. 0. 0.\n",
      " 0. 0. 0. 0. 0. 0. 0. 0. 0. 0. 0. 0. 0. 0. 0. 0. 0. 0. 0. 0. 0. 0. 0. 0.\n",
      " 0. 0. 0. 0. 0. 0. 0. 0. 0. 0. 0. 0. 0. 0. 0. 0. 0. 0. 0. 0. 0. 0. 0. 0.\n",
      " 0. 0. 0. 0. 0. 0. 0. 0. 0. 0. 0. 0. 0. 0. 0. 0. 0. 0. 0. 0. 0. 0. 0. 0.\n",
      " 0. 0. 0. 0. 0. 0. 0. 0. 0. 0. 0. 0. 0. 0. 0. 0. 0. 0. 0. 0. 0. 0. 0. 0.\n",
      " 0. 0. 0. 0. 0. 0. 0. 0. 0. 0. 0. 0. 0. 0. 0. 0. 0. 0. 0. 0. 0. 0. 0. 0.\n",
      " 0. 0. 0. 0. 0. 0. 0. 0. 0. 0. 0. 0. 0. 0. 0. 0. 0. 0. 0. 0. 0. 0. 0. 0.\n",
      " 0. 0. 0. 0. 0. 0. 0. 0. 0. 0. 0. 0. 0. 0. 0. 0. 0. 0. 0. 0. 0. 0. 0. 0.\n",
      " 0. 0. 0. 0. 0. 0. 0. 0. 0. 0. 0. 0. 0. 0. 0. 0. 0. 0. 0. 0. 0. 0. 0. 0.\n",
      " 0. 0. 0. 0. 0. 0. 0. 0. 0. 0. 0. 0. 0. 0. 0. 0. 0. 0. 0. 0. 0. 0. 0. 0.\n",
      " 0. 0. 0. 0. 0. 0. 0. 0. 0. 0. 0. 0. 0. 0. 0. 0. 0. 0. 0. 0. 0. 0. 0. 0.\n",
      " 0. 0. 0. 0. 0. 0. 0. 0. 0. 0. 0. 0. 0. 0. 0. 0. 0. 0. 0. 0. 0. 0. 0. 0.\n",
      " 0. 0. 0. 0. 0. 0. 0. 0. 0. 0. 0. 0. 0. 0. 0. 0. 0. 0. 0. 0. 0. 0. 0. 0.\n",
      " 0. 0. 0. 0. 0. 0. 0. 0. 0. 0. 0. 0. 0. 0. 0. 0. 0. 0. 0. 0. 0. 0. 0. 0.\n",
      " 0. 0. 0. 0. 0. 0. 0. 0. 0. 0. 0. 0. 0. 0. 0. 0. 0. 0. 0. 0. 0. 0. 0. 0.\n",
      " 0. 0. 0. 0. 0. 0. 0. 0. 0. 0. 0. 0. 0. 0. 0. 0. 0. 0. 0. 0. 0. 0. 0. 0.\n",
      " 0. 0. 0. 0. 0. 0. 0. 0. 0. 0. 0. 0. 0. 0. 0. 0. 0. 0. 0. 0. 0. 0. 0. 0.\n",
      " 0. 0. 0. 0. 0. 0. 0. 0. 0. 0. 0. 0. 0. 0. 0. 0. 0. 0. 0. 0. 0. 0. 0. 0.\n",
      " 0. 0. 0. 0. 0. 0. 0. 0. 0. 0. 0. 0. 0. 0. 0. 0. 0. 0. 0. 0. 0. 0. 0. 0.\n",
      " 0. 0. 0. 0. 0. 0. 0. 0. 0. 0. 0. 0. 0. 0. 0. 0. 0. 0. 0. 0. 0. 0. 0. 0.\n",
      " 0. 0. 0. 0. 0. 0. 0. 0. 0. 0. 0. 0. 0. 0. 0. 0. 0. 0. 0. 0. 0. 0. 0. 0.\n",
      " 0. 0. 0. 0. 0. 0. 0. 0. 0. 0. 0. 0. 0. 0. 0. 0. 0. 0. 0. 0. 0. 0. 0. 0.\n",
      " 0. 0. 0. 0. 0. 0. 0. 0. 0. 0. 0. 0. 0. 0. 0. 0. 0. 0. 0. 0. 0. 0. 0. 0.\n",
      " 0. 0. 0. 0. 0. 0. 0. 0. 0. 0. 0. 0. 0. 0. 0. 0. 0. 0. 0. 0. 0. 0. 0. 0.\n",
      " 0. 0. 0. 0. 0. 0. 0. 0. 0. 0. 0. 0. 0. 0. 0. 0. 0. 0. 0. 0. 0. 0. 0. 0.\n",
      " 0. 0. 0. 0. 0. 0. 0. 0. 0. 0. 0. 0. 0. 0. 0. 0. 0. 0. 0. 0. 0. 0. 0. 0.\n",
      " 0. 0. 0. 0. 0. 0. 0. 0. 0. 0. 0. 0. 0. 0. 0. 0. 0. 0. 0. 0. 0. 0. 0. 0.\n",
      " 0. 0. 0. 0. 0. 0. 0. 0. 0. 0. 0. 0. 0. 0. 0. 0. 0. 0. 0. 0. 0. 0. 0. 0.\n",
      " 0. 0. 0. 0. 0. 0. 0. 0. 0. 0. 0. 0. 0. 0. 0. 0. 0. 0. 0. 0. 0. 0. 0. 0.\n",
      " 0. 0. 0. 0. 0. 0. 0. 0. 0. 0. 0. 0. 0. 0. 0. 0. 0. 0. 0. 0. 0. 0. 0. 0.\n",
      " 0. 0. 0. 0. 0. 0. 0. 0. 0. 0. 0. 0. 0. 0. 0. 0. 0. 0. 0. 0. 0. 0. 0. 0.\n",
      " 0. 0. 0. 0. 0. 0. 0. 0. 0. 0. 0. 0. 0. 0. 0. 0. 0. 0. 0. 0. 0. 0. 0. 0.\n",
      " 0. 0. 0. 0. 0. 0. 0. 0. 0. 0. 0. 0. 0. 0. 0. 0. 0. 0. 0. 0. 0. 0. 0. 0.\n",
      " 0. 0. 0. 0. 0. 0. 0. 0. 0. 0. 0. 0. 0. 0. 0. 0. 0. 0. 0. 0. 0. 0. 0. 0.\n",
      " 0. 0. 0. 0. 0. 0. 0. 0. 0. 0. 0. 0. 0. 0. 0. 0. 0. 0. 0. 0. 0. 0. 0. 0.\n",
      " 0. 0. 0. 0. 0. 0. 0. 0. 0. 0. 0. 0. 0. 0. 0. 0. 0. 0. 0. 0. 0. 0. 0. 0.\n",
      " 0. 0. 0. 0. 0. 0. 0. 0. 0. 0. 0. 0. 0. 0. 0. 0. 0. 0. 0. 0. 0. 0. 0. 0.\n",
      " 0. 0. 0. 0. 0. 0. 0. 0. 0. 0. 0. 0. 0. 0. 0. 0. 0. 0. 0. 0. 0. 0. 0. 0.\n",
      " 0. 0. 0. 0. 0. 0. 0. 0. 0. 0. 0. 0. 0. 0. 0. 0. 0. 0. 0. 0. 0. 0. 0. 0.\n",
      " 0. 0. 0. 0. 0. 0. 0. 0. 0. 0. 0. 0. 0. 0. 0. 0. 0. 0. 0. 0. 0. 0. 0. 0.\n",
      " 0. 0. 0. 0. 0. 0. 0. 0. 0. 0. 0. 0. 0. 0. 0. 0. 0. 0. 0. 0. 0. 0. 0. 0.\n",
      " 0. 0. 0. 0. 0. 0. 0. 0. 0. 0. 0. 0. 0. 0. 0. 0.]\n"
     ]
    }
   ],
   "source": [
    "data = np.zeros((10, 1000))\n",
    "for run in range(10):\n",
    "    actual_flat = np.load(f'models/mnist_split/0.002/run_{run}/ideal_grad_task_{1}/grad_output_layer.weight.npy').flatten()\n",
    "    data[run, :] = actual_flat\n",
    "\n",
    "print(data)\n",
    "print(np.std(data, axis = 0))"
   ]
  },
  {
   "cell_type": "code",
   "execution_count": 7,
   "metadata": {},
   "outputs": [
    {
     "name": "stdout",
     "output_type": "stream",
     "text": [
      "[0. 0. 0. ... 0. 0. 0.]\n"
     ]
    }
   ],
   "source": [
    "data = np.zeros((10, 78400))\n",
    "for run in range(10):\n",
    "    actual_flat = np.load(f'models/mnist_split/0.001/run_{run}/ideal_grad_task_{3}/grad_layers.0.weight.npy').flatten()\n",
    "    data[run, :] = actual_flat\n",
    "\n",
    "#print(data[:,10])\n",
    "print(np.std(data, axis = 0))"
   ]
  },
  {
   "cell_type": "code",
   "execution_count": 19,
   "metadata": {},
   "outputs": [],
   "source": [
    "data_block = 'gradient_similarity/mnist_split/class_balanced/Cosine Similarity/past_gradient_comp.npy'\n",
    "data = np.load(data_block)"
   ]
  },
  {
   "cell_type": "code",
   "execution_count": 20,
   "metadata": {},
   "outputs": [
    {
     "name": "stdout",
     "output_type": "stream",
     "text": [
      "10 10 10 4 4\n"
     ]
    }
   ],
   "source": [
    "num_p, num_runs, num_ideal_models, num_tasks, num_grad_files = data.shape\n",
    "print(num_p, num_runs, num_ideal_models, num_tasks, num_grad_files)"
   ]
  },
  {
   "cell_type": "code",
   "execution_count": 21,
   "metadata": {},
   "outputs": [],
   "source": [
    "p_arr = np.array([0.001, 0.002, 0.005, 0.01, 0.02, 0.05, 0.1, 0.2, 0.5, 1])\n",
    "\n",
    "data = np.mean(data, axis = -1)[:, :, :, -1] # last task\n"
   ]
  },
  {
   "cell_type": "code",
   "execution_count": 28,
   "metadata": {},
   "outputs": [
    {
     "data": {
      "text/plain": [
       "[<matplotlib.lines.Line2D at 0x29640c62210>]"
      ]
     },
     "execution_count": 28,
     "metadata": {},
     "output_type": "execute_result"
    },
    {
     "data": {
      "image/png": "[encoded data removed]",
      "text/plain": [
       "<Figure size 640x480 with 1 Axes>"
      ]
     },
     "metadata": {},
     "output_type": "display_data"
    }
   ],
   "source": [
    "grad_arr = np.mean(data, axis = 1)[:, 0]\n",
    "grad_std = np.std(data, axis = 1)[:, 0]\n",
    "plt.plot(p_arr, grad_arr)\n",
    "plt.plot(p_arr, grad_arr + grad_std)\n",
    "plt.plot(p_arr, grad_arr - grad_std)"
   ]
  },
  {
   "cell_type": "code",
   "execution_count": 27,
   "metadata": {},
   "outputs": [
    {
     "data": {
      "text/plain": [
       "[<matplotlib.lines.Line2D at 0x29640874850>]"
      ]
     },
     "execution_count": 27,
     "metadata": {},
     "output_type": "execute_result"
    },
    {
     "data": {
      "image/png": "[encoded data removed]",
      "text/plain": [
       "<Figure size 640x480 with 1 Axes>"
      ]
     },
     "metadata": {},
     "output_type": "display_data"
    }
   ],
   "source": [
    "grad_arr = np.mean(data, axis = 2)[:, 0]\n",
    "grad_std = np.std(data, axis = 2)[:, 0]\n",
    "plt.plot(p_arr, grad_arr)\n",
    "plt.plot(p_arr, grad_arr + grad_std)\n",
    "plt.plot(p_arr, grad_arr - grad_std)"
   ]
  },
  {
   "cell_type": "code",
   "execution_count": null,
   "metadata": {},
   "outputs": [],
   "source": []
  }
 ],
 "metadata": {
  "kernelspec": {
   "display_name": "continualLearning",
   "language": "python",
   "name": "python3"
  },
  "language_info": {
   "codemirror_mode": {
    "name": "ipython",
    "version": 3
   },
   "file_extension": ".py",
   "mimetype": "text/x-python",
   "name": "python",
   "nbconvert_exporter": "python",
   "pygments_lexer": "ipython3",
   "version": "3.11.5"
  }
 },
 "nbformat": 4,
 "nbformat_minor": 2
}
